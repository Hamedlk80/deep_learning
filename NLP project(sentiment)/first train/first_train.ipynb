{
 "cells": [
  {
   "metadata": {
    "ExecuteTime": {
     "end_time": "2025-05-31T11:09:30.090217Z",
     "start_time": "2025-05-31T11:09:29.873652Z"
    }
   },
   "cell_type": "code",
   "source": [
    "import csv\n",
    "import pandas as pd\n",
    "with open('Snappfood - Sentiment Analysis.csv', 'r', encoding='utf-8') as f:\n",
    "    dialect = csv.Sniffer().sniff(f.read(1024))\n",
    "    f.seek(0)\n",
    "    df = pd.read_csv(f, dialect=dialect)\n",
    "print(df.head())"
   ],
   "id": "5e296cf765b54c8e",
   "outputs": [
    {
     "name": "stdout",
     "output_type": "stream",
     "text": [
      "  Unnamed: 0                                            comment  label  \\\n",
      "0        NaN    واقعا حیف وقت که بنویسم سرویس دهیتون شده افتضاح    SAD   \n",
      "1        NaN  قرار بود ۱ ساعته برسه ولی نیم ساعت زودتر از مو...  HAPPY   \n",
      "2        NaN  قیمت این مدل اصلا با کیفیتش سازگاری نداره، فقط...    SAD   \n",
      "3        NaN  عالللی بود همه چه درست و به اندازه و کیفیت خوب...  HAPPY   \n",
      "4        NaN                      شیرینی وانیلی فقط یک مدل بود.  HAPPY   \n",
      "\n",
      "   label_id  \n",
      "0       1.0  \n",
      "1       0.0  \n",
      "2       1.0  \n",
      "3       0.0  \n",
      "4       0.0  \n"
     ]
    }
   ],
   "execution_count": 5
  },
  {
   "metadata": {
    "ExecuteTime": {
     "end_time": "2025-05-31T13:56:03.831172Z",
     "start_time": "2025-05-31T13:56:02.591078Z"
    }
   },
   "cell_type": "code",
   "source": [
    "import pandas as pd\n",
    "\n",
    "df = pd.read_csv('snappfood_processed.csv')\n",
    "\n",
    "df = df.dropna(subset=['label_id', 'processed'])\n",
    "\n",
    "texts = df['processed'].tolist()\n",
    "labels = df['label_id'].astype(int).tolist()"
   ],
   "id": "f49f2947b7b86f6c",
   "outputs": [],
   "execution_count": 1
  },
  {
   "metadata": {
    "ExecuteTime": {
     "end_time": "2025-05-31T18:37:15.204648Z",
     "start_time": "2025-05-31T14:03:36.685906Z"
    }
   },
   "cell_type": "code",
   "source": [
    "from transformers import AutoTokenizer, TFAutoModel\n",
    "import tensorflow as tf\n",
    "import numpy as np\n",
    "from tqdm import tqdm\n",
    "\n",
    "tokenizer = AutoTokenizer.from_pretrained(\"HooshvareLab/bert-base-parsbert-uncased\")\n",
    "bert_model = TFAutoModel.from_pretrained(\"HooshvareLab/bert-base-parsbert-uncased\")\n",
    "\n",
    "def get_bert_embeddings(texts, tokenizer, model, max_len=64):\n",
    "    embeddings = []\n",
    "    for text in tqdm(texts):\n",
    "        inputs = tokenizer(text, return_tensors='tf', max_length=max_len, truncation=True, padding='max_length')\n",
    "        outputs = model(inputs)[0]\n",
    "        cls_vector = outputs[:, 0, :]\n",
    "        embeddings.append(cls_vector.numpy()[0])\n",
    "    return np.array(embeddings)\n",
    "\n",
    "X = get_bert_embeddings(texts, tokenizer, bert_model)\n",
    "y = np.array(labels)"
   ],
   "id": "5a4de31d667aaeec",
   "outputs": [
    {
     "name": "stdout",
     "output_type": "stream",
     "text": [
      "WARNING:tensorflow:From C:\\Users\\USER\\anaconda3\\envs\\tf-env\\Lib\\site-packages\\tf_keras\\src\\backend.py:873: The name tf.get_default_graph is deprecated. Please use tf.compat.v1.get_default_graph instead.\n",
      "\n"
     ]
    },
    {
     "name": "stderr",
     "output_type": "stream",
     "text": [
      "Some layers from the model checkpoint at HooshvareLab/bert-base-parsbert-uncased were not used when initializing TFBertModel: ['nsp___cls', 'mlm___cls']\n",
      "- This IS expected if you are initializing TFBertModel from the checkpoint of a model trained on another task or with another architecture (e.g. initializing a BertForSequenceClassification model from a BertForPreTraining model).\n",
      "- This IS NOT expected if you are initializing TFBertModel from the checkpoint of a model that you expect to be exactly identical (initializing a BertForSequenceClassification model from a BertForSequenceClassification model).\n",
      "All the layers of TFBertModel were initialized from the model checkpoint at HooshvareLab/bert-base-parsbert-uncased.\n",
      "If your task is similar to the task the model of the checkpoint was trained on, you can already use TFBertModel for predictions without further training.\n",
      "100%|██████████| 69480/69480 [4:25:08<00:00,  4.37it/s]  \n"
     ]
    }
   ],
   "execution_count": 8
  },
  {
   "metadata": {
    "ExecuteTime": {
     "end_time": "2025-05-31T18:37:16.158914Z",
     "start_time": "2025-05-31T18:37:15.468261Z"
    }
   },
   "cell_type": "code",
   "source": [
    "from tensorflow.keras.models import Sequential\n",
    "from tensorflow.keras.layers import LSTM, Dense, Dropout, Reshape\n",
    "\n",
    "model = Sequential([\n",
    "    Reshape((1, 768), input_shape=(768,)),\n",
    "    LSTM(128, return_sequences=False),\n",
    "    Dropout(0.3),\n",
    "    Dense(64, activation='relu'),\n",
    "    Dense(1, activation='sigmoid')\n",
    "])\n",
    "\n",
    "model.compile(loss='binary_crossentropy', optimizer='adam', metrics=['accuracy'])\n",
    "model.summary()"
   ],
   "id": "793a8282860de917",
   "outputs": [
    {
     "name": "stderr",
     "output_type": "stream",
     "text": [
      "C:\\Users\\USER\\anaconda3\\envs\\tf-env\\Lib\\site-packages\\keras\\src\\layers\\reshaping\\reshape.py:39: UserWarning: Do not pass an `input_shape`/`input_dim` argument to a layer. When using Sequential models, prefer using an `Input(shape)` object as the first layer in the model instead.\n",
      "  super().__init__(**kwargs)\n"
     ]
    },
    {
     "data": {
      "text/plain": [
       "\u001B[1mModel: \"sequential\"\u001B[0m\n"
      ],
      "text/html": [
       "<pre style=\"white-space:pre;overflow-x:auto;line-height:normal;font-family:Menlo,'DejaVu Sans Mono',consolas,'Courier New',monospace\"><span style=\"font-weight: bold\">Model: \"sequential\"</span>\n",
       "</pre>\n"
      ]
     },
     "metadata": {},
     "output_type": "display_data"
    },
    {
     "data": {
      "text/plain": [
       "┏━━━━━━━━━━━━━━━━━━━━━━━━━━━━━━━━━┳━━━━━━━━━━━━━━━━━━━━━━━━┳━━━━━━━━━━━━━━━┓\n",
       "┃\u001B[1m \u001B[0m\u001B[1mLayer (type)                   \u001B[0m\u001B[1m \u001B[0m┃\u001B[1m \u001B[0m\u001B[1mOutput Shape          \u001B[0m\u001B[1m \u001B[0m┃\u001B[1m \u001B[0m\u001B[1m      Param #\u001B[0m\u001B[1m \u001B[0m┃\n",
       "┡━━━━━━━━━━━━━━━━━━━━━━━━━━━━━━━━━╇━━━━━━━━━━━━━━━━━━━━━━━━╇━━━━━━━━━━━━━━━┩\n",
       "│ reshape (\u001B[38;5;33mReshape\u001B[0m)               │ (\u001B[38;5;45mNone\u001B[0m, \u001B[38;5;34m1\u001B[0m, \u001B[38;5;34m768\u001B[0m)         │             \u001B[38;5;34m0\u001B[0m │\n",
       "├─────────────────────────────────┼────────────────────────┼───────────────┤\n",
       "│ lstm (\u001B[38;5;33mLSTM\u001B[0m)                     │ (\u001B[38;5;45mNone\u001B[0m, \u001B[38;5;34m128\u001B[0m)            │       \u001B[38;5;34m459,264\u001B[0m │\n",
       "├─────────────────────────────────┼────────────────────────┼───────────────┤\n",
       "│ dropout (\u001B[38;5;33mDropout\u001B[0m)               │ (\u001B[38;5;45mNone\u001B[0m, \u001B[38;5;34m128\u001B[0m)            │             \u001B[38;5;34m0\u001B[0m │\n",
       "├─────────────────────────────────┼────────────────────────┼───────────────┤\n",
       "│ dense (\u001B[38;5;33mDense\u001B[0m)                   │ (\u001B[38;5;45mNone\u001B[0m, \u001B[38;5;34m64\u001B[0m)             │         \u001B[38;5;34m8,256\u001B[0m │\n",
       "├─────────────────────────────────┼────────────────────────┼───────────────┤\n",
       "│ dense_1 (\u001B[38;5;33mDense\u001B[0m)                 │ (\u001B[38;5;45mNone\u001B[0m, \u001B[38;5;34m1\u001B[0m)              │            \u001B[38;5;34m65\u001B[0m │\n",
       "└─────────────────────────────────┴────────────────────────┴───────────────┘\n"
      ],
      "text/html": [
       "<pre style=\"white-space:pre;overflow-x:auto;line-height:normal;font-family:Menlo,'DejaVu Sans Mono',consolas,'Courier New',monospace\">┏━━━━━━━━━━━━━━━━━━━━━━━━━━━━━━━━━┳━━━━━━━━━━━━━━━━━━━━━━━━┳━━━━━━━━━━━━━━━┓\n",
       "┃<span style=\"font-weight: bold\"> Layer (type)                    </span>┃<span style=\"font-weight: bold\"> Output Shape           </span>┃<span style=\"font-weight: bold\">       Param # </span>┃\n",
       "┡━━━━━━━━━━━━━━━━━━━━━━━━━━━━━━━━━╇━━━━━━━━━━━━━━━━━━━━━━━━╇━━━━━━━━━━━━━━━┩\n",
       "│ reshape (<span style=\"color: #0087ff; text-decoration-color: #0087ff\">Reshape</span>)               │ (<span style=\"color: #00d7ff; text-decoration-color: #00d7ff\">None</span>, <span style=\"color: #00af00; text-decoration-color: #00af00\">1</span>, <span style=\"color: #00af00; text-decoration-color: #00af00\">768</span>)         │             <span style=\"color: #00af00; text-decoration-color: #00af00\">0</span> │\n",
       "├─────────────────────────────────┼────────────────────────┼───────────────┤\n",
       "│ lstm (<span style=\"color: #0087ff; text-decoration-color: #0087ff\">LSTM</span>)                     │ (<span style=\"color: #00d7ff; text-decoration-color: #00d7ff\">None</span>, <span style=\"color: #00af00; text-decoration-color: #00af00\">128</span>)            │       <span style=\"color: #00af00; text-decoration-color: #00af00\">459,264</span> │\n",
       "├─────────────────────────────────┼────────────────────────┼───────────────┤\n",
       "│ dropout (<span style=\"color: #0087ff; text-decoration-color: #0087ff\">Dropout</span>)               │ (<span style=\"color: #00d7ff; text-decoration-color: #00d7ff\">None</span>, <span style=\"color: #00af00; text-decoration-color: #00af00\">128</span>)            │             <span style=\"color: #00af00; text-decoration-color: #00af00\">0</span> │\n",
       "├─────────────────────────────────┼────────────────────────┼───────────────┤\n",
       "│ dense (<span style=\"color: #0087ff; text-decoration-color: #0087ff\">Dense</span>)                   │ (<span style=\"color: #00d7ff; text-decoration-color: #00d7ff\">None</span>, <span style=\"color: #00af00; text-decoration-color: #00af00\">64</span>)             │         <span style=\"color: #00af00; text-decoration-color: #00af00\">8,256</span> │\n",
       "├─────────────────────────────────┼────────────────────────┼───────────────┤\n",
       "│ dense_1 (<span style=\"color: #0087ff; text-decoration-color: #0087ff\">Dense</span>)                 │ (<span style=\"color: #00d7ff; text-decoration-color: #00d7ff\">None</span>, <span style=\"color: #00af00; text-decoration-color: #00af00\">1</span>)              │            <span style=\"color: #00af00; text-decoration-color: #00af00\">65</span> │\n",
       "└─────────────────────────────────┴────────────────────────┴───────────────┘\n",
       "</pre>\n"
      ]
     },
     "metadata": {},
     "output_type": "display_data"
    },
    {
     "data": {
      "text/plain": [
       "\u001B[1m Total params: \u001B[0m\u001B[38;5;34m467,585\u001B[0m (1.78 MB)\n"
      ],
      "text/html": [
       "<pre style=\"white-space:pre;overflow-x:auto;line-height:normal;font-family:Menlo,'DejaVu Sans Mono',consolas,'Courier New',monospace\"><span style=\"font-weight: bold\"> Total params: </span><span style=\"color: #00af00; text-decoration-color: #00af00\">467,585</span> (1.78 MB)\n",
       "</pre>\n"
      ]
     },
     "metadata": {},
     "output_type": "display_data"
    },
    {
     "data": {
      "text/plain": [
       "\u001B[1m Trainable params: \u001B[0m\u001B[38;5;34m467,585\u001B[0m (1.78 MB)\n"
      ],
      "text/html": [
       "<pre style=\"white-space:pre;overflow-x:auto;line-height:normal;font-family:Menlo,'DejaVu Sans Mono',consolas,'Courier New',monospace\"><span style=\"font-weight: bold\"> Trainable params: </span><span style=\"color: #00af00; text-decoration-color: #00af00\">467,585</span> (1.78 MB)\n",
       "</pre>\n"
      ]
     },
     "metadata": {},
     "output_type": "display_data"
    },
    {
     "data": {
      "text/plain": [
       "\u001B[1m Non-trainable params: \u001B[0m\u001B[38;5;34m0\u001B[0m (0.00 B)\n"
      ],
      "text/html": [
       "<pre style=\"white-space:pre;overflow-x:auto;line-height:normal;font-family:Menlo,'DejaVu Sans Mono',consolas,'Courier New',monospace\"><span style=\"font-weight: bold\"> Non-trainable params: </span><span style=\"color: #00af00; text-decoration-color: #00af00\">0</span> (0.00 B)\n",
       "</pre>\n"
      ]
     },
     "metadata": {},
     "output_type": "display_data"
    }
   ],
   "execution_count": 9
  },
  {
   "metadata": {
    "ExecuteTime": {
     "end_time": "2025-05-31T18:37:49.681171Z",
     "start_time": "2025-05-31T18:37:16.475960Z"
    }
   },
   "cell_type": "code",
   "source": "history = model.fit(X, y, epochs=5, batch_size=32, validation_split=0.2)",
   "id": "a49889fb1528a832",
   "outputs": [
    {
     "name": "stdout",
     "output_type": "stream",
     "text": [
      "Epoch 1/5\n",
      "\u001B[1m1737/1737\u001B[0m \u001B[32m━━━━━━━━━━━━━━━━━━━━\u001B[0m\u001B[37m\u001B[0m \u001B[1m11s\u001B[0m 3ms/step - accuracy: 0.8015 - loss: 0.4316 - val_accuracy: 0.8248 - val_loss: 0.3861\n",
      "Epoch 2/5\n",
      "\u001B[1m1737/1737\u001B[0m \u001B[32m━━━━━━━━━━━━━━━━━━━━\u001B[0m\u001B[37m\u001B[0m \u001B[1m5s\u001B[0m 3ms/step - accuracy: 0.8310 - loss: 0.3830 - val_accuracy: 0.8262 - val_loss: 0.3789\n",
      "Epoch 3/5\n",
      "\u001B[1m1737/1737\u001B[0m \u001B[32m━━━━━━━━━━━━━━━━━━━━\u001B[0m\u001B[37m\u001B[0m \u001B[1m5s\u001B[0m 3ms/step - accuracy: 0.8321 - loss: 0.3761 - val_accuracy: 0.8323 - val_loss: 0.3719\n",
      "Epoch 4/5\n",
      "\u001B[1m1737/1737\u001B[0m \u001B[32m━━━━━━━━━━━━━━━━━━━━\u001B[0m\u001B[37m\u001B[0m \u001B[1m5s\u001B[0m 3ms/step - accuracy: 0.8388 - loss: 0.3662 - val_accuracy: 0.8333 - val_loss: 0.3683\n",
      "Epoch 5/5\n",
      "\u001B[1m1737/1737\u001B[0m \u001B[32m━━━━━━━━━━━━━━━━━━━━\u001B[0m\u001B[37m\u001B[0m \u001B[1m5s\u001B[0m 3ms/step - accuracy: 0.8401 - loss: 0.3605 - val_accuracy: 0.8318 - val_loss: 0.3715\n"
     ]
    }
   ],
   "execution_count": 10
  },
  {
   "metadata": {
    "ExecuteTime": {
     "end_time": "2025-05-31T18:37:49.786299Z",
     "start_time": "2025-05-31T18:37:49.708800Z"
    }
   },
   "cell_type": "code",
   "source": "model.save('parsbert_lstm_model.h5')",
   "id": "4ff85b898575d888",
   "outputs": [
    {
     "name": "stderr",
     "output_type": "stream",
     "text": [
      "WARNING:absl:You are saving your model as an HDF5 file via `model.save()` or `keras.saving.save_model(model)`. This file format is considered legacy. We recommend using instead the native Keras format, e.g. `model.save('my_model.keras')` or `keras.saving.save_model(model, 'my_model.keras')`. \n"
     ]
    }
   ],
   "execution_count": 11
  },
  {
   "metadata": {
    "ExecuteTime": {
     "end_time": "2025-05-31T18:51:08.396483Z",
     "start_time": "2025-05-31T18:51:06.143252Z"
    }
   },
   "cell_type": "code",
   "source": "model.save('parsbert_lstm_model.keras')",
   "id": "3eee6e96538845b",
   "outputs": [],
   "execution_count": 13
  },
  {
   "metadata": {
    "ExecuteTime": {
     "end_time": "2025-06-02T08:23:41.004657Z",
     "start_time": "2025-06-02T08:23:04.961549Z"
    }
   },
   "cell_type": "code",
   "source": [
    "import pandas as pd\n",
    "from transformers import AutoTokenizer, TFAutoModel\n",
    "import tensorflow as tf\n",
    "import numpy as np\n",
    "from tqdm import tqdm\n",
    "\n",
    "df = pd.read_excel('digikala_processed.xlsx')\n",
    "texts = df['processed'].tolist()\n",
    "\n",
    "tokenizer = AutoTokenizer.from_pretrained(\"HooshvareLab/bert-base-parsbert-uncased\")\n",
    "bert_model = TFAutoModel.from_pretrained(\"HooshvareLab/bert-base-parsbert-uncased\")"
   ],
   "id": "bbfbc50f3758be1",
   "outputs": [
    {
     "name": "stderr",
     "output_type": "stream",
     "text": [
      "C:\\Users\\USER\\anaconda3\\envs\\tf-env\\Lib\\site-packages\\requests\\__init__.py:86: RequestsDependencyWarning: Unable to find acceptable character detection dependency (chardet or charset_normalizer).\n",
      "  warnings.warn(\n",
      "C:\\Users\\USER\\anaconda3\\envs\\tf-env\\Lib\\site-packages\\tqdm\\auto.py:21: TqdmWarning: IProgress not found. Please update jupyter and ipywidgets. See https://ipywidgets.readthedocs.io/en/stable/user_install.html\n",
      "  from .autonotebook import tqdm as notebook_tqdm\n"
     ]
    },
    {
     "name": "stdout",
     "output_type": "stream",
     "text": [
      "WARNING:tensorflow:From C:\\Users\\USER\\anaconda3\\envs\\tf-env\\Lib\\site-packages\\tf_keras\\src\\losses.py:2976: The name tf.losses.sparse_softmax_cross_entropy is deprecated. Please use tf.compat.v1.losses.sparse_softmax_cross_entropy instead.\n",
      "\n",
      "WARNING:tensorflow:From C:\\Users\\USER\\anaconda3\\envs\\tf-env\\Lib\\site-packages\\tf_keras\\src\\backend.py:873: The name tf.get_default_graph is deprecated. Please use tf.compat.v1.get_default_graph instead.\n",
      "\n"
     ]
    },
    {
     "name": "stderr",
     "output_type": "stream",
     "text": [
      "Some layers from the model checkpoint at HooshvareLab/bert-base-parsbert-uncased were not used when initializing TFBertModel: ['nsp___cls', 'mlm___cls']\n",
      "- This IS expected if you are initializing TFBertModel from the checkpoint of a model trained on another task or with another architecture (e.g. initializing a BertForSequenceClassification model from a BertForPreTraining model).\n",
      "- This IS NOT expected if you are initializing TFBertModel from the checkpoint of a model that you expect to be exactly identical (initializing a BertForSequenceClassification model from a BertForSequenceClassification model).\n",
      "All the layers of TFBertModel were initialized from the model checkpoint at HooshvareLab/bert-base-parsbert-uncased.\n",
      "If your task is similar to the task the model of the checkpoint was trained on, you can already use TFBertModel for predictions without further training.\n"
     ]
    }
   ],
   "execution_count": 1
  },
  {
   "metadata": {
    "ExecuteTime": {
     "end_time": "2025-06-02T14:25:56.390645Z",
     "start_time": "2025-06-02T08:23:41.182124Z"
    }
   },
   "cell_type": "code",
   "source": [
    "texts = [str(t) for t in texts if isinstance(t, str)]\n",
    "\n",
    "def get_bert_embeddings(texts, tokenizer, model, max_len=64):\n",
    "    embeddings = []\n",
    "    for text in tqdm(texts):\n",
    "        if not isinstance(text, str):\n",
    "            continue\n",
    "        inputs = tokenizer(text, return_tensors='tf', max_length=max_len,\n",
    "                           truncation=True, padding='max_length')\n",
    "        outputs = model(inputs)[0]\n",
    "        cls_vector = outputs[:, 0, :]\n",
    "        embeddings.append(cls_vector.numpy()[0])\n",
    "    return np.array(embeddings)\n",
    "\n",
    "X = get_bert_embeddings(texts, tokenizer, bert_model)"
   ],
   "id": "bf7cd2efc104bc6c",
   "outputs": [
    {
     "name": "stderr",
     "output_type": "stream",
     "text": [
      "100%|██████████| 99902/99902 [6:02:12<00:00,  4.60it/s]  \n"
     ]
    }
   ],
   "execution_count": 2
  },
  {
   "metadata": {
    "ExecuteTime": {
     "end_time": "2025-06-02T15:03:05.793977Z",
     "start_time": "2025-06-02T15:03:01.315110Z"
    }
   },
   "cell_type": "code",
   "source": [
    "from keras.models import load_model\n",
    "model = load_model('parsbert_lstm_model.keras')\n",
    "\n",
    "y_pred_prob = model.predict(X)\n",
    "y_pred = (y_pred_prob > 0.5).astype(int).flatten()"
   ],
   "id": "98f73cba8991817e",
   "outputs": [
    {
     "name": "stderr",
     "output_type": "stream",
     "text": [
      "C:\\Users\\USER\\anaconda3\\envs\\tf-env\\Lib\\site-packages\\keras\\src\\saving\\saving_lib.py:757: UserWarning: Skipping variable loading for optimizer 'rmsprop', because it has 9 variables whereas the saved optimizer has 16 variables. \n",
      "  saveable.load_own_variables(weights_store.get(inner_path))\n"
     ]
    },
    {
     "name": "stdout",
     "output_type": "stream",
     "text": [
      "\u001B[1m3122/3122\u001B[0m \u001B[32m━━━━━━━━━━━━━━━━━━━━\u001B[0m\u001B[37m\u001B[0m \u001B[1m3s\u001B[0m 1ms/step\n"
     ]
    }
   ],
   "execution_count": 10
  },
  {
   "metadata": {
    "ExecuteTime": {
     "end_time": "2025-06-02T15:10:39.331521Z",
     "start_time": "2025-06-02T15:10:21.533894Z"
    }
   },
   "cell_type": "code",
   "source": [
    "texts_raw = df['processed'].tolist()\n",
    "valid_indices = [i for i, t in enumerate(texts_raw) if isinstance(t, str)]\n",
    "texts = [texts_raw[i] for i in valid_indices]\n",
    "\n",
    "df_valid = df.iloc[valid_indices].copy()\n",
    "df_valid['predicted_label'] = y_pred\n",
    "df_valid['predicted_sentiment'] = df_valid['predicted_label'].map({0: 'HAPPY', 1: 'SAD'})\n",
    "df_valid.to_excel('digikala_predicted.xlsx', index=False)"
   ],
   "id": "d0264fdedced8650",
   "outputs": [],
   "execution_count": 13
  },
  {
   "metadata": {
    "ExecuteTime": {
     "end_time": "2025-06-02T15:03:21.000743Z",
     "start_time": "2025-06-02T15:03:17.851936Z"
    }
   },
   "cell_type": "code",
   "source": [
    "df['predicted_label'] = y_pred\n",
    "df['predicted_sentiment'] = df['predicted_label'].map({0: 'HAPPY', 1: 'SAD'})\n",
    "\n",
    "df.to_excel('digikala_predicted.xlsx', index=False)"
   ],
   "id": "ef662ac0c1d159d8",
   "outputs": [
    {
     "ename": "ValueError",
     "evalue": "Length of values (99902) does not match length of index (99903)",
     "output_type": "error",
     "traceback": [
      "\u001B[31m---------------------------------------------------------------------------\u001B[39m",
      "\u001B[31mValueError\u001B[39m                                Traceback (most recent call last)",
      "\u001B[36mCell\u001B[39m\u001B[36m \u001B[39m\u001B[32mIn[11]\u001B[39m\u001B[32m, line 1\u001B[39m\n\u001B[32m----> \u001B[39m\u001B[32m1\u001B[39m df[\u001B[33m'\u001B[39m\u001B[33mpredicted_label\u001B[39m\u001B[33m'\u001B[39m] = y_pred\n\u001B[32m      2\u001B[39m df[\u001B[33m'\u001B[39m\u001B[33mpredicted_sentiment\u001B[39m\u001B[33m'\u001B[39m] = df[\u001B[33m'\u001B[39m\u001B[33mpredicted_label\u001B[39m\u001B[33m'\u001B[39m].map({\u001B[32m0\u001B[39m: \u001B[33m'\u001B[39m\u001B[33mHAPPY\u001B[39m\u001B[33m'\u001B[39m, \u001B[32m1\u001B[39m: \u001B[33m'\u001B[39m\u001B[33mSAD\u001B[39m\u001B[33m'\u001B[39m})  \u001B[38;5;66;03m# اختیاری\u001B[39;00m\n\u001B[32m      4\u001B[39m \u001B[38;5;66;03m# ذخیره فایل نهایی\u001B[39;00m\n",
      "\u001B[36mFile \u001B[39m\u001B[32m~\\anaconda3\\envs\\tf-env\\Lib\\site-packages\\pandas\\core\\frame.py:4311\u001B[39m, in \u001B[36mDataFrame.__setitem__\u001B[39m\u001B[34m(self, key, value)\u001B[39m\n\u001B[32m   4308\u001B[39m     \u001B[38;5;28mself\u001B[39m._setitem_array([key], value)\n\u001B[32m   4309\u001B[39m \u001B[38;5;28;01melse\u001B[39;00m:\n\u001B[32m   4310\u001B[39m     \u001B[38;5;66;03m# set column\u001B[39;00m\n\u001B[32m-> \u001B[39m\u001B[32m4311\u001B[39m     \u001B[38;5;28mself\u001B[39m._set_item(key, value)\n",
      "\u001B[36mFile \u001B[39m\u001B[32m~\\anaconda3\\envs\\tf-env\\Lib\\site-packages\\pandas\\core\\frame.py:4524\u001B[39m, in \u001B[36mDataFrame._set_item\u001B[39m\u001B[34m(self, key, value)\u001B[39m\n\u001B[32m   4514\u001B[39m \u001B[38;5;28;01mdef\u001B[39;00m\u001B[38;5;250m \u001B[39m\u001B[34m_set_item\u001B[39m(\u001B[38;5;28mself\u001B[39m, key, value) -> \u001B[38;5;28;01mNone\u001B[39;00m:\n\u001B[32m   4515\u001B[39m \u001B[38;5;250m    \u001B[39m\u001B[33;03m\"\"\"\u001B[39;00m\n\u001B[32m   4516\u001B[39m \u001B[33;03m    Add series to DataFrame in specified column.\u001B[39;00m\n\u001B[32m   4517\u001B[39m \n\u001B[32m   (...)\u001B[39m\u001B[32m   4522\u001B[39m \u001B[33;03m    ensure homogeneity.\u001B[39;00m\n\u001B[32m   4523\u001B[39m \u001B[33;03m    \"\"\"\u001B[39;00m\n\u001B[32m-> \u001B[39m\u001B[32m4524\u001B[39m     value, refs = \u001B[38;5;28mself\u001B[39m._sanitize_column(value)\n\u001B[32m   4526\u001B[39m     \u001B[38;5;28;01mif\u001B[39;00m (\n\u001B[32m   4527\u001B[39m         key \u001B[38;5;129;01min\u001B[39;00m \u001B[38;5;28mself\u001B[39m.columns\n\u001B[32m   4528\u001B[39m         \u001B[38;5;129;01mand\u001B[39;00m value.ndim == \u001B[32m1\u001B[39m\n\u001B[32m   4529\u001B[39m         \u001B[38;5;129;01mand\u001B[39;00m \u001B[38;5;129;01mnot\u001B[39;00m \u001B[38;5;28misinstance\u001B[39m(value.dtype, ExtensionDtype)\n\u001B[32m   4530\u001B[39m     ):\n\u001B[32m   4531\u001B[39m         \u001B[38;5;66;03m# broadcast across multiple columns if necessary\u001B[39;00m\n\u001B[32m   4532\u001B[39m         \u001B[38;5;28;01mif\u001B[39;00m \u001B[38;5;129;01mnot\u001B[39;00m \u001B[38;5;28mself\u001B[39m.columns.is_unique \u001B[38;5;129;01mor\u001B[39;00m \u001B[38;5;28misinstance\u001B[39m(\u001B[38;5;28mself\u001B[39m.columns, MultiIndex):\n",
      "\u001B[36mFile \u001B[39m\u001B[32m~\\anaconda3\\envs\\tf-env\\Lib\\site-packages\\pandas\\core\\frame.py:5266\u001B[39m, in \u001B[36mDataFrame._sanitize_column\u001B[39m\u001B[34m(self, value)\u001B[39m\n\u001B[32m   5263\u001B[39m     \u001B[38;5;28;01mreturn\u001B[39;00m _reindex_for_setitem(value, \u001B[38;5;28mself\u001B[39m.index)\n\u001B[32m   5265\u001B[39m \u001B[38;5;28;01mif\u001B[39;00m is_list_like(value):\n\u001B[32m-> \u001B[39m\u001B[32m5266\u001B[39m     com.require_length_match(value, \u001B[38;5;28mself\u001B[39m.index)\n\u001B[32m   5267\u001B[39m arr = sanitize_array(value, \u001B[38;5;28mself\u001B[39m.index, copy=\u001B[38;5;28;01mTrue\u001B[39;00m, allow_2d=\u001B[38;5;28;01mTrue\u001B[39;00m)\n\u001B[32m   5268\u001B[39m \u001B[38;5;28;01mif\u001B[39;00m (\n\u001B[32m   5269\u001B[39m     \u001B[38;5;28misinstance\u001B[39m(value, Index)\n\u001B[32m   5270\u001B[39m     \u001B[38;5;129;01mand\u001B[39;00m value.dtype == \u001B[33m\"\u001B[39m\u001B[33mobject\u001B[39m\u001B[33m\"\u001B[39m\n\u001B[32m   (...)\u001B[39m\u001B[32m   5273\u001B[39m     \u001B[38;5;66;03m# TODO: Remove kludge in sanitize_array for string mode when enforcing\u001B[39;00m\n\u001B[32m   5274\u001B[39m     \u001B[38;5;66;03m# this deprecation\u001B[39;00m\n",
      "\u001B[36mFile \u001B[39m\u001B[32m~\\anaconda3\\envs\\tf-env\\Lib\\site-packages\\pandas\\core\\common.py:573\u001B[39m, in \u001B[36mrequire_length_match\u001B[39m\u001B[34m(data, index)\u001B[39m\n\u001B[32m    569\u001B[39m \u001B[38;5;250m\u001B[39m\u001B[33;03m\"\"\"\u001B[39;00m\n\u001B[32m    570\u001B[39m \u001B[33;03mCheck the length of data matches the length of the index.\u001B[39;00m\n\u001B[32m    571\u001B[39m \u001B[33;03m\"\"\"\u001B[39;00m\n\u001B[32m    572\u001B[39m \u001B[38;5;28;01mif\u001B[39;00m \u001B[38;5;28mlen\u001B[39m(data) != \u001B[38;5;28mlen\u001B[39m(index):\n\u001B[32m--> \u001B[39m\u001B[32m573\u001B[39m     \u001B[38;5;28;01mraise\u001B[39;00m \u001B[38;5;167;01mValueError\u001B[39;00m(\n\u001B[32m    574\u001B[39m         \u001B[33m\"\u001B[39m\u001B[33mLength of values \u001B[39m\u001B[33m\"\u001B[39m\n\u001B[32m    575\u001B[39m         \u001B[33mf\u001B[39m\u001B[33m\"\u001B[39m\u001B[33m(\u001B[39m\u001B[38;5;132;01m{\u001B[39;00m\u001B[38;5;28mlen\u001B[39m(data)\u001B[38;5;132;01m}\u001B[39;00m\u001B[33m) \u001B[39m\u001B[33m\"\u001B[39m\n\u001B[32m    576\u001B[39m         \u001B[33m\"\u001B[39m\u001B[33mdoes not match length of index \u001B[39m\u001B[33m\"\u001B[39m\n\u001B[32m    577\u001B[39m         \u001B[33mf\u001B[39m\u001B[33m\"\u001B[39m\u001B[33m(\u001B[39m\u001B[38;5;132;01m{\u001B[39;00m\u001B[38;5;28mlen\u001B[39m(index)\u001B[38;5;132;01m}\u001B[39;00m\u001B[33m)\u001B[39m\u001B[33m\"\u001B[39m\n\u001B[32m    578\u001B[39m     )\n",
      "\u001B[31mValueError\u001B[39m: Length of values (99902) does not match length of index (99903)"
     ]
    }
   ],
   "execution_count": 11
  },
  {
   "metadata": {
    "ExecuteTime": {
     "end_time": "2025-06-02T15:10:58.074733Z",
     "start_time": "2025-06-02T15:10:46.901236Z"
    }
   },
   "cell_type": "code",
   "source": [
    "import pandas as pd\n",
    "import matplotlib.pyplot as plt\n",
    "\n",
    "df = pd.read_excel('digikala_predicted.xlsx')\n",
    "\n",
    "label_counts = df['predicted_sentiment'].value_counts()\n",
    "\n",
    "plt.figure(figsize=(6, 6))\n",
    "plt.pie(label_counts, labels=label_counts.index, autopct='%1.1f%%', startangle=90)\n",
    "plt.title('درصد احساسات پیش‌بینی‌شده (Pie Chart)')\n",
    "plt.axis('equal')\n",
    "plt.show()\n",
    "\n",
    "plt.figure(figsize=(6, 4))\n",
    "label_counts.plot(kind='bar', color=['green', 'red'])\n",
    "plt.title('تعداد احساسات پیش‌بینی‌شده (Bar Chart)')\n",
    "plt.xlabel('برچسب احساس')\n",
    "plt.ylabel('تعداد کامنت‌ها')\n",
    "plt.grid(axis='y')\n",
    "plt.show()"
   ],
   "id": "88290fd14b38aef0",
   "outputs": [
    {
     "data": {
      "text/plain": [
       "<Figure size 600x600 with 1 Axes>"
      ],
      "image/png": "[encoded data removed]"
     },
     "metadata": {},
     "output_type": "display_data"
    },
    {
     "data": {
      "text/plain": [
       "<Figure size 600x400 with 1 Axes>"
      ],
      "image/png": "[encoded data removed]"
     },
     "metadata": {},
     "output_type": "display_data"
    }
   ],
   "execution_count": 14
  }
 ],
 "metadata": {
  "kernelspec": {
   "display_name": "Python 3",
   "language": "python",
   "name": "python3"
  },
  "language_info": {
   "codemirror_mode": {
    "name": "ipython",
    "version": 2
   },
   "file_extension": ".py",
   "mimetype": "text/x-python",
   "name": "python",
   "nbconvert_exporter": "python",
   "pygments_lexer": "ipython2",
   "version": "2.7.6"
  }
 },
 "nbformat": 4,
 "nbformat_minor": 5
}
